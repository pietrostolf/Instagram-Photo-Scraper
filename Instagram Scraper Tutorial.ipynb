{
 "cells": [
  {
   "cell_type": "code",
   "execution_count": null,
   "id": "7abd7c3f",
   "metadata": {},
   "outputs": [],
   "source": [
    "#Import dependencies"
   ]
  },
  {
   "cell_type": "code",
   "execution_count": null,
   "id": "352a2cf4",
   "metadata": {},
   "outputs": [],
   "source": [
    "#specify the path to chromedriver.exe (download and save on your computer)\n",
    "\n",
    "#open the webpage"
   ]
  },
  {
   "cell_type": "code",
   "execution_count": null,
   "id": "e7567b51",
   "metadata": {},
   "outputs": [],
   "source": [
    "#target username\n",
    "\n",
    "#enter username and password\n",
    "\n",
    "#target the login button and click it\n"
   ]
  },
  {
   "cell_type": "code",
   "execution_count": null,
   "id": "719378c7",
   "metadata": {},
   "outputs": [],
   "source": [
    "# Wait up to 10 seconds for the search button to be clickable on the web page\n",
    "\n",
    "# Click the search button once it becomes clickable\n"
   ]
  },
  {
   "cell_type": "code",
   "execution_count": null,
   "id": "89de7582",
   "metadata": {},
   "outputs": [],
   "source": [
    "#target the search input field\n",
    "\n",
    "#search for the @handle or keyword\n"
   ]
  },
  {
   "cell_type": "code",
   "execution_count": null,
   "id": "700900c0",
   "metadata": {},
   "outputs": [],
   "source": [
    "# Check if the keyword starts with \"@\"\n",
    "\n",
    "    # Remove the \"@\" symbol\n",
    "  \n",
    "# Find the first element with the specified XPath that matches the keyword    \n",
    "\n",
    "\n",
    "# Click on the found element (assuming it represents the desired search result)\n"
   ]
  },
  {
   "cell_type": "code",
   "execution_count": null,
   "id": "f2ce7a8c",
   "metadata": {},
   "outputs": [],
   "source": [
    "# Get the initial page height\n",
    "\n",
    "# Create a list to store htmls\n",
    "\n",
    "# Scroll loop\n",
    "\n",
    "    # Scroll down to the bottom of the page\n",
    "\n",
    "    # Wait for a moment to allow new content to load (adjust as needed)\n",
    "    \n",
    "    # Parse the HTML\n",
    "    \n",
    "    # Create a BeautifulSoup object from the scraped HTML\n",
    "\n",
    "    # Get the current page height\n",
    "\n",
    "    # Exit the loop when you can't scroll further\n",
    "\n",
    "    # Update the initial height for the next iteration"
   ]
  },
  {
   "cell_type": "code",
   "execution_count": null,
   "id": "8319260c",
   "metadata": {},
   "outputs": [],
   "source": [
    "# List to store the post image URLs\n",
    "\n",
    "# Loop through soup elements\n",
    "\n",
    "    # Find all image elements that match the specific class in the current soup\n",
    "    \n",
    "    # Extract the href attributes and filter URLs that start with \"/p/\" or \"/reel/\"\n",
    "       \n",
    "# Convert the list to a set to remove duplicates\n"
   ]
  },
  {
   "cell_type": "code",
   "execution_count": null,
   "id": "a8f825b7",
   "metadata": {},
   "outputs": [],
   "source": [
    "# Create a list to store the json for each post\n",
    "\n",
    "# Define the query parameters to add\n",
    "\n",
    "# go through all urls\n",
    "\n",
    "    # Error ahndling\n",
    "\n",
    "        # Get the current URL of the page\n",
    "\n",
    "        # Append the query parameters to the current URL\n",
    "\n",
    "        # Get URL\n",
    "\n",
    "        # Wait for a moment to allow new content to load (adjust as needed)\n",
    "\n",
    "        # Find the <pre> tag containing the JSON data\n",
    "\n",
    "        # Extract the JSON data from the <pre> tag\n",
    "\n",
    "        # Parse the JSON data\n",
    "\n",
    "        # Add json to the list\n"
   ]
  },
  {
   "cell_type": "code",
   "execution_count": 3,
   "id": "60abb97b",
   "metadata": {},
   "outputs": [],
   "source": [
    "# Lists to store URLs and corresponding dates\n",
    "\n",
    "# Iterate through each JSON data in the list\n",
    "    \n",
    "    # Extract the list from the 'items' key\n",
    "    \n",
    "    # Iterate through each item in the 'items' list\n",
    "        \n",
    "        # Extract the date the item was taken\n",
    "\n",
    "        # Check if 'carousel_media' is present\n",
    "        \n",
    "        # Iterate through each media in the 'carousel_media' list\n",
    "            \n",
    "            # Extract the image URL from the media\n",
    "            \n",
    "            # Check if the image_url field is found inside the 'carousel_media' list\n",
    "\n",
    "                # Add the image URL and corresponding date to the lists\n",
    "                \n",
    "            # Extract the video URL from the media\n",
    "            \n",
    "                    # Add the video URL and corresponding date to the lists\n",
    "\n",
    "        # Handle cases of unique image, instead of carousel\n",
    "            \n",
    "            # Add the image URL and corresponding date to the lists\n",
    "\n",
    "        # Check if 'video_versions' key exists\n",
    "                "
   ]
  },
  {
   "cell_type": "code",
   "execution_count": null,
   "id": "4aafe315",
   "metadata": {},
   "outputs": [],
   "source": [
    "# Create a directory to store downloaded files\n",
    "\n",
    "# Create subfolders for images and videos\n",
    "\n",
    "# Initialize counters for images and videos\n",
    "\n",
    "# Iterate through URLs in the all_urls list and download media\n",
    "\n",
    "    # Extract file extension from the URL\n",
    "\n",
    "    # Determine the file name based on the URL\n",
    "\n",
    "        # Default to the main download directory for other file types\n",
    "\n",
    "    # Save the file to the appropriate folder\n",
    "    \n",
    "    # Write the content of the response to the file\n",
    "\n",
    "\n",
    "# Print a message indicating the number of downloaded files and the download directory\n"
   ]
  }
 ],
 "metadata": {
  "kernelspec": {
   "display_name": "Python 3 (ipykernel)",
   "language": "python",
   "name": "python3"
  },
  "language_info": {
   "codemirror_mode": {
    "name": "ipython",
    "version": 3
   },
   "file_extension": ".py",
   "mimetype": "text/x-python",
   "name": "python",
   "nbconvert_exporter": "python",
   "pygments_lexer": "ipython3",
   "version": "3.9.13"
  }
 },
 "nbformat": 4,
 "nbformat_minor": 5
}
