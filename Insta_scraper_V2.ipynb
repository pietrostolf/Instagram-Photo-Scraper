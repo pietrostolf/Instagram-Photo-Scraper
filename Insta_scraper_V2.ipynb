{
 "cells": [
  {
   "cell_type": "code",
   "execution_count": 128,
   "id": "c7a7887f",
   "metadata": {},
   "outputs": [],
   "source": [
    "from selenium import webdriver\n",
    "from selenium.webdriver.common.keys import Keys\n",
    "from selenium.webdriver.support import expected_conditions as EC\n",
    "from selenium.webdriver.common.by import By\n",
    "from selenium.webdriver.support.wait import WebDriverWait\n",
    "from selenium.webdriver.chrome.options import Options\n",
    "import time\n",
    "import requests\n",
    "from bs4 import BeautifulSoup\n",
    "import re\n",
    "import config\n",
    "import json\n",
    "import os\n",
    "from urllib.parse import urlparse"
   ]
  },
  {
   "cell_type": "code",
   "execution_count": 113,
   "id": "b3b8e189",
   "metadata": {},
   "outputs": [],
   "source": [
    "#specify the path to chromedriver.exe (download and save on your computer)\n",
    "driver = webdriver.Chrome()\n",
    "\n",
    "#open the webpage\n",
    "driver.get(\"https://www.instagram.com/\")"
   ]
  },
  {
   "cell_type": "code",
   "execution_count": 114,
   "id": "1bc46864",
   "metadata": {},
   "outputs": [],
   "source": [
    "#target username\n",
    "username = WebDriverWait(driver, 10).until(EC.element_to_be_clickable((By.CSS_SELECTOR, \"input[name='username']\")))\n",
    "password = WebDriverWait(driver, 10).until(EC.element_to_be_clickable((By.CSS_SELECTOR, \"input[name='password']\")))\n",
    "\n",
    "#enter username and password\n",
    "username.clear()\n",
    "username.send_keys(config.username)\n",
    "password.clear()\n",
    "password.send_keys(config.password)\n",
    "\n",
    "#target the login button and click it\n",
    "button = WebDriverWait(driver, 2).until(EC.element_to_be_clickable((By.CSS_SELECTOR, \"button[type='submit']\"))).click()"
   ]
  },
  {
   "cell_type": "code",
   "execution_count": 115,
   "id": "cc35b7fd",
   "metadata": {},
   "outputs": [],
   "source": [
    "search_button = WebDriverWait(driver, 10).until(EC.element_to_be_clickable((By.CSS_SELECTOR, 'svg[aria-label=\"Search\"]')))\n",
    "\n",
    "search_button.click()"
   ]
  },
  {
   "cell_type": "code",
   "execution_count": 116,
   "id": "ad5ba940",
   "metadata": {},
   "outputs": [],
   "source": [
    "#target the search input field\n",
    "searchbox = WebDriverWait(driver, 10).until(EC.element_to_be_clickable((By.XPATH, \"//input[@placeholder='Search']\")))\n",
    "searchbox.clear()\n",
    "\n",
    "#search for the @handle or keyword\n",
    "keyword = \"@travellertimmy\"\n",
    "searchbox.send_keys(keyword)"
   ]
  },
  {
   "cell_type": "code",
   "execution_count": 117,
   "id": "f050e14d",
   "metadata": {},
   "outputs": [],
   "source": [
    "# Check if the keyword starts with \"@\"\n",
    "if keyword.startswith(\"@\"):\n",
    "    # Remove the \"@\" symbol\n",
    "    keyword = keyword[1:]\n",
    "first_result = driver.find_element(By.XPATH, f'//span[text()=\"{keyword}\"]')\n",
    "first_result.click()"
   ]
  },
  {
   "cell_type": "code",
   "execution_count": 118,
   "id": "82fb5052",
   "metadata": {},
   "outputs": [],
   "source": [
    "# Get the initial page height\n",
    "initial_height = driver.execute_script(\"return document.body.scrollHeight\")\n",
    "\n",
    "# Create a list to store htmls\n",
    "soups = []\n",
    "\n",
    "while True:\n",
    "    # Scroll down to the bottom of the page\n",
    "    driver.execute_script(\"window.scrollTo(0, document.body.scrollHeight);\")\n",
    "\n",
    "    # Wait for a moment to allow new content to load (adjust as needed)\n",
    "    time.sleep(3)\n",
    "    \n",
    "    # Parse the HTML\n",
    "    html = driver.page_source\n",
    "    \n",
    "    # Create a BeautifulSoup object from the scraped HTML\n",
    "    soups.append(BeautifulSoup(html, 'html.parser'))\n",
    "\n",
    "    # Get the current page height\n",
    "    current_height = driver.execute_script(\"return document.body.scrollHeight\")\n",
    "\n",
    "    if current_height == initial_height:\n",
    "        break  # Exit the loop when you can't scroll further\n",
    "\n",
    "    initial_height = current_height  # Update the initial height for the next iteration"
   ]
  },
  {
   "cell_type": "code",
   "execution_count": 119,
   "id": "5cc4acc7",
   "metadata": {},
   "outputs": [
    {
     "data": {
      "text/plain": [
       "['/p/CIo3E4JjuRn/',\n",
       " '/p/CIpEFVFDNI1/',\n",
       " '/p/CIs8-dKh5rI/',\n",
       " '/p/CIo2s9JjuOh/',\n",
       " '/p/CIpGvp8DW5H/',\n",
       " '/p/CIrREw8h8pH/',\n",
       " '/p/CIpIgpxj74D/',\n",
       " '/p/CIo1-b3D3MV/',\n",
       " '/p/CIpFlILDSm8/']"
      ]
     },
     "execution_count": 119,
     "metadata": {},
     "output_type": "execute_result"
    }
   ],
   "source": [
    "# List to store the post image URLs\n",
    "post_urls = []\n",
    "\n",
    "for soup in soups:\n",
    "    # Find all image elements that match the specific class in the current soup\n",
    "    elements = soup.find_all('a', class_='x1i10hfl xjbqb8w x6umtig x1b1mbwd xaqea5y xav7gou x9f619 x1ypdohk xt0psk2 xe8uvvx xdj266r x11i5rnm xat24cr x1mh8g0r xexx8yu x4uap5 x18d9i69 xkhd6sd x16tdsg8 x1hl2dhg xggy1nq x1a2a7pz _a6hd')\n",
    "\n",
    "    # Extract the href attributes and filter URLs that start with \"/p/\" or \"/p/CZK8AFkFGRa/\"\n",
    "    post_urls.extend([element['href'] for element in elements if element['href'].startswith('/p/')])\n",
    "\n",
    "# Convert the list to a set to remove duplicates\n",
    "unique_post_urls = list(set(post_urls))\n",
    "\n",
    "unique_post_urls"
   ]
  },
  {
   "cell_type": "code",
   "execution_count": 120,
   "id": "a9f1a1ed",
   "metadata": {},
   "outputs": [
    {
     "name": "stderr",
     "output_type": "stream",
     "text": [
      "C:\\Users\\Victor\\AppData\\Local\\Temp\\ipykernel_6848\\3222883199.py:23: DeprecationWarning: find_element_by_xpath is deprecated. Please use find_element(by=By.XPATH, value=xpath) instead\n",
      "  pre_tag = driver.find_element_by_xpath('//pre')\n"
     ]
    }
   ],
   "source": [
    "json_list = []\n",
    "\n",
    "# Define the query parameters to add\n",
    "query_parameters = \"__a=1&__d=dis\"\n",
    "\n",
    "# go through all urls\n",
    "for url in unique_post_urls:\n",
    "\n",
    "    # Get the current URL of the page\n",
    "    current_url = driver.current_url\n",
    "\n",
    "    # Append the query parameters to the current URL\n",
    "    modified_url = \"https://www.instagram.com/\" + url + \"?\" + query_parameters\n",
    "    \n",
    "    #Get URL\n",
    "    \n",
    "    driver.get(modified_url)\n",
    "    \n",
    "    # Wait for a moment to allow new content to load (adjust as needed)\n",
    "    time.sleep(1)\n",
    "    \n",
    "    # Find the <pre> tag containing the JSON data\n",
    "    pre_tag = driver.find_element_by_xpath('//pre')\n",
    "\n",
    "    # Extract the JSON data from the <pre> tag\n",
    "    json_script = pre_tag.text\n",
    "\n",
    "    # Parse the JSON data\n",
    "    json_parsed = json.loads(json_script)\n",
    "    \n",
    "    # Add json to the list\n",
    "    json_list.append(json_parsed)\n",
    "    \n",
    "driver.quit()\n"
   ]
  },
  {
   "cell_type": "code",
   "execution_count": 123,
   "id": "d594ccea",
   "metadata": {},
   "outputs": [],
   "source": [
    "carousel_list = []\n",
    "\n",
    "for json in json_list:\n",
    "\n",
    "    # Extract the list from the 'items' key\n",
    "    item_list = json.get('items', [])\n",
    "\n",
    "    # Extract the list from the 'carousel_media' key\n",
    "    carousel_media = item_list[0].get('carousel_media', [])\n",
    "    \n",
    "    carousel_list.append(carousel_media)"
   ]
  },
  {
   "cell_type": "code",
   "execution_count": 124,
   "id": "de058950",
   "metadata": {},
   "outputs": [
    {
     "data": {
      "text/plain": [
       "['https://scontent-yyz1-1.cdninstagram.com/v/t51.2885-15/130491706_111739887442931_6340155833046461656_n.jpg?stp=dst-jpg_e35&efg=eyJ2ZW5jb2RlX3RhZyI6ImltYWdlX3VybGdlbi4xNDQweDE4MDAuc2RyIn0&_nc_ht=scontent-yyz1-1.cdninstagram.com&_nc_cat=111&_nc_ohc=UBOj7ov_RzEAX9wNOaC&edm=AABBvjUBAAAA&ccb=7-5&ig_cache_key=MjQ2MTUxNjYyNjYxNDE2OTU0Mg%3D%3D.2-ccb7-5&oh=00_AfDb1U8tqs-Bo9TxqReEs_lJRRD45PluNEM6t19iOH_2ow&oe=657455FF&_nc_sid=4f4799',\n",
       " 'https://scontent-yyz1-1.cdninstagram.com/v/t51.2885-15/130753396_670133730325692_5936236233371927231_n.jpg?stp=dst-jpg_e35&efg=eyJ2ZW5jb2RlX3RhZyI6ImltYWdlX3VybGdlbi4xNDQweDE3OTQuc2RyIn0&_nc_ht=scontent-yyz1-1.cdninstagram.com&_nc_cat=100&_nc_ohc=_4fmh33OzvQAX94P1ce&edm=AABBvjUBAAAA&ccb=7-5&ig_cache_key=MjQ2MTUxNjYyNjYwNTc0MjgzOQ%3D%3D.2-ccb7-5&oh=00_AfA_c1qsh5sRgAttsFIwKMWDyc2h-sZJHR2e6TJ1wO4qEA&oe=6573AD95&_nc_sid=4f4799',\n",
       " 'https://scontent-yyz1-1.cdninstagram.com/v/t51.2885-15/130150602_2840633019504278_6693841728010917339_n.jpg?stp=dst-jpg_e35&efg=eyJ2ZW5jb2RlX3RhZyI6ImltYWdlX3VybGdlbi43MjB4OTAwLnNkciJ9&_nc_ht=scontent-yyz1-1.cdninstagram.com&_nc_cat=102&_nc_ohc=2k5SspdkZpsAX-A-pQq&edm=AABBvjUBAAAA&ccb=7-5&ig_cache_key=MjQ2MTUxMjY3MTYxMjA5Njg0OA%3D%3D.2-ccb7-5&oh=00_AfASn3HaAz0lJZYx_aR6l1Vqzyew3GCUVp_kiDY3qyXniQ&oe=6574C092&_nc_sid=4f4799',\n",
       " 'https://scontent-yyz1-1.cdninstagram.com/o1/v/t16/f1/m84/8344604DE572DA7AEF09E6E948EABCBF_video_dashinit.mp4?efg=eyJxZV9ncm91cHMiOiJbXCJpZ193ZWJfZGVsaXZlcnlfdnRzX290ZlwiXSIsInZlbmNvZGVfdGFnIjoidnRzX3ZvZF91cmxnZW4uY2Fyb3VzZWxfaXRlbS5jMi43MjAuYmFzZWxpbmUifQ&_nc_ht=scontent-yyz1-1.cdninstagram.com&_nc_cat=106&vs=1011002936814239_4184169267&_nc_vs=HBksFQIYTGlnX2JhY2tmaWxsX3RpbWVsaW5lX3ZvZC84MzQ0NjA0REU1NzJEQTdBRUYwOUU2RTk0OEVBQkNCRl92aWRlb19kYXNoaW5pdC5tcDQVAALIAQAVAhg6cGFzc3Rocm91Z2hfZXZlcnN0b3JlL0dIemlaQmQyWTRpUk1QUUJBTG1OUDJ4TlFrUlVicGt3QUFBRhUCAsgBACgAGAAbAYgHdXNlX29pbAEwFQAAJozep53oj7s%2FFQIoAkMzLBc%2F%2Fu2RaHKwIRgSZGFzaF9iYXNlbGluZV8xX3YxEQB17gcA&_nc_rid=e0966fcfa6&ccb=9-4&oh=00_AfC_3R-P76hDv1zFTuukJecjDmK5InjExTdf3G1OngwMkA&oe=65719797&_nc_sid=4f4799',\n",
       " 'https://scontent-yyz1-1.cdninstagram.com/v/t51.2885-15/130713324_294778411952927_3923790979575068733_n.jpg?stp=dst-jpg_e35&efg=eyJ2ZW5jb2RlX3RhZyI6ImltYWdlX3VybGdlbi4xNDQweDE4MDAuc2RyIn0&_nc_ht=scontent-yyz1-1.cdninstagram.com&_nc_cat=111&_nc_ohc=oURjGM5CrzMAX-lLzm6&edm=AABBvjUBAAAA&ccb=7-5&ig_cache_key=MjQ2MTUyODMyOTgzNzkxNDg3OA%3D%3D.2-ccb7-5&oh=00_AfAz33JV3nDvqoVyy_b-YayxjdaZc6aFQLLm7hqRvz1Bsg&oe=6573FD9B&_nc_sid=4f4799',\n",
       " 'https://scontent-yyz1-1.cdninstagram.com/v/t51.2885-15/130572782_1050113308734697_6620131626253735281_n.jpg?stp=dst-jpg_e35&efg=eyJ2ZW5jb2RlX3RhZyI6ImltYWdlX3VybGdlbi4xNDQweDE4MDAuc2RyIn0&_nc_ht=scontent-yyz1-1.cdninstagram.com&_nc_cat=101&_nc_ohc=FT50Kq03IcMAX_bM9ip&edm=AABBvjUBAAAA&ccb=7-5&ig_cache_key=MjQ2MTUyODMyOTg2MzI1NjA2NA%3D%3D.2-ccb7-5&oh=00_AfDT0l9eEjPyzbU0O9kbaqvsVky5KFKMe700o02TSK-qaA&oe=657518CD&_nc_sid=4f4799',\n",
       " 'https://scontent-yyz1-1.cdninstagram.com/v/t51.2885-15/130557766_870184557071316_1701673223368375222_n.jpg?stp=dst-jpg_e35&efg=eyJ2ZW5jb2RlX3RhZyI6ImltYWdlX3VybGdlbi43MjB4OTAwLnNkciJ9&_nc_ht=scontent-yyz1-1.cdninstagram.com&_nc_cat=100&_nc_ohc=L9Xd6a6U87IAX9bgnMf&edm=AABBvjUBAAAA&ccb=7-5&ig_cache_key=MjQ2MTUyNDUxODI0NzQ0OTU0Mw%3D%3D.2-ccb7-5&oh=00_AfBV71iAH-JXYxMG3TJmZ-8_AmkM0gLR0rmhvMM61ZA3oA&oe=657494CE&_nc_sid=4f4799',\n",
       " 'https://scontent-yyz1-1.cdninstagram.com/o1/v/t16/f1/m84/D648662CA38A9B7DDFF9D93B29A35BBD_video_dashinit.mp4?efg=eyJxZV9ncm91cHMiOiJbXCJpZ193ZWJfZGVsaXZlcnlfdnRzX290ZlwiXSIsInZlbmNvZGVfdGFnIjoidnRzX3ZvZF91cmxnZW4uY2Fyb3VzZWxfaXRlbS5jMi43MjAuYmFzZWxpbmUifQ&_nc_ht=scontent-yyz1-1.cdninstagram.com&_nc_cat=109&vs=871032611290215_3320329171&_nc_vs=HBksFQIYTGlnX2JhY2tmaWxsX3RpbWVsaW5lX3ZvZC9ENjQ4NjYyQ0EzOEE5QjdEREZGOUQ5M0IyOUEzNUJCRF92aWRlb19kYXNoaW5pdC5tcDQVAALIAQAVAhg6cGFzc3Rocm91Z2hfZXZlcnN0b3JlL0dCNDlpQmVGODluOXJyZ0FBRk5BanZOcFNjYzhicGt3QUFBRhUCAsgBACgAGAAbAYgHdXNlX29pbAEwFQAAJvSr0ryYmts%2FFQIoAkMzLBc%2F8AAAAAAAABgSZGFzaF9iYXNlbGluZV8xX3YxEQB17gcA&_nc_rid=5953154360&ccb=9-4&oh=00_AfAZJDjLL5PGx4iBHUy_kvbQCZMVqwdbutWnB2Ie6m41_w&oe=6570FF47&_nc_sid=4f4799',\n",
       " 'https://scontent-yyz1-1.cdninstagram.com/v/t51.2885-15/130587348_3947823795250456_5302831561313911976_n.jpg?stp=dst-jpg_e35&efg=eyJ2ZW5jb2RlX3RhZyI6ImltYWdlX3VybGdlbi4xNDQweDE4MDAuc2RyIn0&_nc_ht=scontent-yyz1-1.cdninstagram.com&_nc_cat=104&_nc_ohc=d0z9ifQ-p0cAX_SZUaq&edm=AABBvjUBAAAA&ccb=7-5&ig_cache_key=MjQ2MTUzNjA5NDc4NjYzNTQ0OA%3D%3D.2-ccb7-5&oh=00_AfAOMg7BAjVeMhtFAtfWu4g737JaMv5OAdiEVwgzkfzr9Q&oe=6574BC34&_nc_sid=4f4799',\n",
       " 'https://scontent-yyz1-1.cdninstagram.com/v/t51.2885-15/130150601_2929439727342198_1518873972389929786_n.jpg?stp=dst-jpg_e35&efg=eyJ2ZW5jb2RlX3RhZyI6ImltYWdlX3VybGdlbi4xNDQweDE4MDAuc2RyIn0&_nc_ht=scontent-yyz1-1.cdninstagram.com&_nc_cat=106&_nc_ohc=3OCpuJ5ATs4AX_By2a7&edm=AABBvjUBAAAA&ccb=7-5&ig_cache_key=MjQ2MTUzNjA5NDk3OTU4NzYxMQ%3D%3D.2-ccb7-5&oh=00_AfASWZBbU8UDlCOrukeTqqb00nbKKzP0DATlvxZm_on1_A&oe=65748854&_nc_sid=4f4799',\n",
       " 'https://scontent-yyz1-1.cdninstagram.com/v/t51.2885-15/131317633_3002947283297245_7756033396009679815_n.jpg?stp=dst-jpg_e35&efg=eyJ2ZW5jb2RlX3RhZyI6ImltYWdlX3VybGdlbi43MjB4OTAwLnNkciJ9&_nc_ht=scontent-yyz1-1.cdninstagram.com&_nc_cat=101&_nc_ohc=SyjFyYIGuFAAX8sA4bk&edm=AABBvjUBAAAA&ccb=7-5&ig_cache_key=MjQ2MTUzMzIwNDUyNTI3MDI5NA%3D%3D.2-ccb7-5&oh=00_AfBWLDmyTno0pApVbUwM9V3rVNRYgXV-laECYA4TmL3gCw&oe=657434C8&_nc_sid=4f4799',\n",
       " 'https://scontent-yyz1-1.cdninstagram.com/o1/v/t16/f1/m84/3D4D7A879612ADC93216F1BAD52DA1B0_video_dashinit.mp4?efg=eyJxZV9ncm91cHMiOiJbXCJpZ193ZWJfZGVsaXZlcnlfdnRzX290ZlwiXSIsInZlbmNvZGVfdGFnIjoidnRzX3ZvZF91cmxnZW4uY2Fyb3VzZWxfaXRlbS5jMi43MjAuYmFzZWxpbmUifQ&_nc_ht=scontent-yyz1-1.cdninstagram.com&_nc_cat=110&vs=6524003514387367_1639834883&_nc_vs=HBksFQIYTGlnX2JhY2tmaWxsX3RpbWVsaW5lX3ZvZC8zRDREN0E4Nzk2MTJBREM5MzIxNkYxQkFENTJEQTFCMF92aWRlb19kYXNoaW5pdC5tcDQVAALIAQAVAhg6cGFzc3Rocm91Z2hfZXZlcnN0b3JlL0dCNV8yaGEwY3hWMlZpWUJBQ0F2OVprZlRvc3RicGt3QUFBRhUCAsgBACgAGAAbAYgHdXNlX29pbAEwFQAAJu7N5q%2Bu78E%2FFQIoAkMzLBc%2F8AAAAAAAABgSZGFzaF9iYXNlbGluZV8xX3YxEQB17gcA&_nc_rid=79bb37df18&ccb=9-4&oh=00_AfBN88BaDDRxccTazqSeVxsypNGE2CJxKGTEQw_au06IjQ&oe=65718079&_nc_sid=4f4799',\n",
       " 'https://scontent-yyz1-1.cdninstagram.com/v/t51.2885-15/130544120_870861206992975_8777953376536471836_n.jpg?stp=dst-jpg_e35&efg=eyJ2ZW5jb2RlX3RhZyI6ImltYWdlX3VybGdlbi4xNDQweDE4MDAuc2RyIn0&_nc_ht=scontent-yyz1-1.cdninstagram.com&_nc_cat=107&_nc_ohc=GcFBsA8uWQkAX9hyZBL&edm=AABBvjUBAAAA&ccb=7-5&ig_cache_key=MjQ2MTUyMzIwODkyODQwNzAzOQ%3D%3D.2-ccb7-5&oh=00_AfCqDNK0zmVICKG-oqkwPGBAbsNWDrnAp4pPgY4DAemZug&oe=6573D5E3&_nc_sid=4f4799',\n",
       " 'https://scontent-yyz1-1.cdninstagram.com/v/t51.2885-15/130763028_3895642137137037_5198494332681363432_n.jpg?stp=dst-jpg_e35&efg=eyJ2ZW5jb2RlX3RhZyI6ImltYWdlX3VybGdlbi4xNDQweDE4MDAuc2RyIn0&_nc_ht=scontent-yyz1-1.cdninstagram.com&_nc_cat=109&_nc_ohc=bwo1AVicoHEAX-WbjcA&edm=AABBvjUBAAAA&ccb=7-5&ig_cache_key=MjQ2MTUyMzIwOTA4NzcxNzUxMQ%3D%3D.2-ccb7-5&oh=00_AfAsr_2OxTGa4rCm8cCcCTpXasJ_8s6r5U3igeZST2TVcA&oe=6574C2F8&_nc_sid=4f4799',\n",
       " 'https://scontent-yyz1-1.cdninstagram.com/v/t51.2885-15/130573010_409152616949158_2070834860428740927_n.jpg?stp=dst-jpg_e35&efg=eyJ2ZW5jb2RlX3RhZyI6ImltYWdlX3VybGdlbi43MjB4OTAwLnNkciJ9&_nc_ht=scontent-yyz1-1.cdninstagram.com&_nc_cat=110&_nc_ohc=o3MTwrmrftoAX_rCyP7&edm=AABBvjUBAAAA&ccb=7-5&ig_cache_key=MjQ2MTUyMTU2OTg3ODIzODk2Mg%3D%3D.2-ccb7-5&oh=00_AfDWIWgNAbp75iYUQkUx7DLGVISDP_NqYvtClJcvatZ8AQ&oe=65740AD1&_nc_sid=4f4799',\n",
       " 'https://scontent-yyz1-1.cdninstagram.com/o1/v/t16/f1/m84/CF4E3656C7838CC611950F81F0BABEB8_video_dashinit.mp4?efg=eyJxZV9ncm91cHMiOiJbXCJpZ193ZWJfZGVsaXZlcnlfdnRzX290ZlwiXSIsInZlbmNvZGVfdGFnIjoidnRzX3ZvZF91cmxnZW4uY2Fyb3VzZWxfaXRlbS5jMi43MjAuYmFzZWxpbmUifQ&_nc_ht=scontent-yyz1-1.cdninstagram.com&_nc_cat=101&vs=1156427528699654_806087114&_nc_vs=HBksFQIYTGlnX2JhY2tmaWxsX3RpbWVsaW5lX3ZvZC9DRjRFMzY1NkM3ODM4Q0M2MTE5NTBGODFGMEJBQkVCOF92aWRlb19kYXNoaW5pdC5tcDQVAALIAQAVAhg6cGFzc3Rocm91Z2hfZXZlcnN0b3JlL0dHd1BNUmVyREx3RlIzRU1BTnBzZ3QxZ2YzMXNicGt3QUFBRhUCAsgBACgAGAAbAYgHdXNlX29pbAEwFQAAJqqY77DR8Lg%2FFQIoAkMzLBc%2F8AAAAAAAABgSZGFzaF9iYXNlbGluZV8xX3YxEQB17gcA&_nc_rid=946449170f&ccb=9-4&oh=00_AfCt_98d5KudM6iwv-Wb2-h2HRSMHkR6sviAMffrKxePcA&oe=65719504&_nc_sid=4f4799']"
      ]
     },
     "execution_count": 124,
     "metadata": {},
     "output_type": "execute_result"
    }
   ],
   "source": [
    "all_urls = []\n",
    "\n",
    "for carousel_media in carousel_list:\n",
    "\n",
    "    for media in carousel_media:\n",
    "        image_url = media['image_versions2']['candidates'][0]['url']\n",
    "        all_urls.append(image_url)\n",
    "\n",
    "        # Check if 'video_versions' key exists before accessing it\n",
    "        if 'video_versions' in media:\n",
    "            video_url = media['video_versions'][0]['url']\n",
    "            all_urls.append(video_url)\n",
    "\n",
    "# Print or use all collected URLs as needed\n",
    "all_urls"
   ]
  },
  {
   "cell_type": "code",
   "execution_count": 125,
   "id": "81ec8ed1",
   "metadata": {},
   "outputs": [
    {
     "data": {
      "text/plain": [
       "16"
      ]
     },
     "execution_count": 125,
     "metadata": {},
     "output_type": "execute_result"
    }
   ],
   "source": [
    "len(all_urls)"
   ]
  },
  {
   "cell_type": "code",
   "execution_count": 135,
   "id": "b2e22826",
   "metadata": {},
   "outputs": [
    {
     "name": "stdout",
     "output_type": "stream",
     "text": [
      "Downloaded: downloaded_media\\1.jpg\n",
      "Downloaded: downloaded_media\\2.jpg\n",
      "Downloaded: downloaded_media\\3.jpg\n",
      "Downloaded: downloaded_media\\4.mp4\n",
      "Downloaded: downloaded_media\\5.jpg\n",
      "Downloaded: downloaded_media\\6.jpg\n",
      "Downloaded: downloaded_media\\7.jpg\n",
      "Downloaded: downloaded_media\\8.mp4\n",
      "Downloaded: downloaded_media\\9.jpg\n",
      "Downloaded: downloaded_media\\10.jpg\n",
      "Downloaded: downloaded_media\\11.jpg\n",
      "Downloaded: downloaded_media\\12.mp4\n",
      "Downloaded: downloaded_media\\13.jpg\n",
      "Downloaded: downloaded_media\\14.jpg\n",
      "Downloaded: downloaded_media\\15.jpg\n",
      "Downloaded: downloaded_media\\16.mp4\n",
      "Downloaded 16 files to downloaded_media\n"
     ]
    }
   ],
   "source": [
    "# Create a directory to store downloaded files\n",
    "download_dir = 'downloaded_media'\n",
    "os.makedirs(download_dir, exist_ok=True)\n",
    "\n",
    "# Iterate through all URLs in the all_urls list and download media\n",
    "for index, url in enumerate(all_urls, 1):\n",
    "   \n",
    "    response = requests.get(url, stream=True)\n",
    "\n",
    "    # Extract file extension from the URL\n",
    "    url_path = urlparse(url).path\n",
    "    file_extension = os.path.splitext(url_path)[1]\n",
    "\n",
    "    # Determine the file name based on the URL\n",
    "    file_name = f\"{index}{file_extension}\"\n",
    "\n",
    "    # Save the file to the download directory\n",
    "    file_path = os.path.join(download_dir, file_name)\n",
    "\n",
    "    with open(file_path, 'wb') as file:\n",
    "        for chunk in response.iter_content(chunk_size=8192):\n",
    "            if chunk:\n",
    "                file.write(chunk)\n",
    "\n",
    "    print(f\"Downloaded: {file_path}\")\n",
    "\n",
    "print(f\"Downloaded {len(all_urls)} files to {download_dir}\")"
   ]
  },
  {
   "cell_type": "code",
   "execution_count": null,
   "id": "e8dcd1a4",
   "metadata": {},
   "outputs": [],
   "source": []
  }
 ],
 "metadata": {
  "kernelspec": {
   "display_name": "Python 3 (ipykernel)",
   "language": "python",
   "name": "python3"
  },
  "language_info": {
   "codemirror_mode": {
    "name": "ipython",
    "version": 3
   },
   "file_extension": ".py",
   "mimetype": "text/x-python",
   "name": "python",
   "nbconvert_exporter": "python",
   "pygments_lexer": "ipython3",
   "version": "3.9.13"
  }
 },
 "nbformat": 4,
 "nbformat_minor": 5
}
