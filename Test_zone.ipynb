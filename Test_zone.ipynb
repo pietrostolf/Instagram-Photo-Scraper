{
 "cells": [
  {
   "cell_type": "code",
   "execution_count": null,
   "id": "79cefafc",
   "metadata": {},
   "outputs": [],
   "source": [
    "# Define the query parameters to add\n",
    "query_parameters = \"__a=1&__d=dis\"\n",
    "\n",
    "# Get the current URL of the page\n",
    "current_url = driver.current_url\n",
    "\n",
    "# Append the query parameters to the current URL\n",
    "modified_url = current_url + \"?\" + query_parameters\n",
    "\n",
    "# Navigate to the modified URL\n",
    "driver.get(modified_url)"
   ]
  },
  {
   "cell_type": "code",
   "execution_count": null,
   "id": "d7397a41",
   "metadata": {},
   "outputs": [],
   "source": [
    "# Parse the HTML\n",
    "html = driver.page_source\n",
    "\n",
    "# Create a BeautifulSoup object from the scraped HTML\n",
    "insta_soup = BeautifulSoup(html, 'html.parser')"
   ]
  },
  {
   "cell_type": "code",
   "execution_count": 1,
   "id": "95932692",
   "metadata": {},
   "outputs": [
    {
     "ename": "NameError",
     "evalue": "name 'insta_soup' is not defined",
     "output_type": "error",
     "traceback": [
      "\u001b[1;31m---------------------------------------------------------------------------\u001b[0m",
      "\u001b[1;31mNameError\u001b[0m                                 Traceback (most recent call last)",
      "\u001b[1;32m~\\AppData\\Local\\Temp\\ipykernel_19492\\1225898844.py\u001b[0m in \u001b[0;36m<module>\u001b[1;34m\u001b[0m\n\u001b[1;32m----> 1\u001b[1;33m \u001b[0minsta_soup\u001b[0m\u001b[1;33m\u001b[0m\u001b[1;33m\u001b[0m\u001b[0m\n\u001b[0m",
      "\u001b[1;31mNameError\u001b[0m: name 'insta_soup' is not defined"
     ]
    }
   ],
   "source": [
    "insta_soup"
   ]
  },
  {
   "cell_type": "code",
   "execution_count": null,
   "id": "97d98014",
   "metadata": {},
   "outputs": [],
   "source": [
    "# Find all URLs that start with \"https://\" within the entire HTML content\n",
    "all_text = insta_soup.get_text()\n",
    "all_urls = re.findall(r'https://[^\\s\"]+', all_text)\n",
    "\n",
    "# Filter URLs that contain \".mp4\"\n",
    "mp4_urls = [url for url in all_urls if \".mp4\" in url]\n",
    "\n",
    "# Print the list of URLs\n",
    "len(mp4_urls)"
   ]
  },
  {
   "cell_type": "code",
   "execution_count": null,
   "id": "b9e93180",
   "metadata": {},
   "outputs": [],
   "source": [
    "# Remove items containing '</BaseURL>'\n",
    "filtered_strings = [s for s in mp4_urls if '</BaseURL>' not in s]"
   ]
  },
  {
   "cell_type": "code",
   "execution_count": null,
   "id": "3e43f797",
   "metadata": {},
   "outputs": [],
   "source": [
    "len(filtered_strings)"
   ]
  },
  {
   "cell_type": "code",
   "execution_count": null,
   "id": "aa3c033d",
   "metadata": {},
   "outputs": [],
   "source": [
    "#target all the link elements on the page\n",
    "anchors = driver.find_elements_by_tag_name('a')\n",
    "anchors = [a.get_attribute('href') for a in anchors]\n",
    "#narrow down all links to image links only\n",
    "anchors = [a for a in anchors if str(a).startswith(\"https://www.instagram.com/p/\")]\n",
    "\n",
    "print('Found ' + str(len(anchors)) + ' links to images')\n",
    "anchors[:5]"
   ]
  },
  {
   "cell_type": "code",
   "execution_count": null,
   "id": "7a6bc169",
   "metadata": {},
   "outputs": [],
   "source": [
    "images = []\n",
    "\n",
    "#follow each image link and extract only image at index=1\n",
    "for a in anchors:\n",
    "    try:\n",
    "        driver.get(a)\n",
    "        time.sleep(5)\n",
    "        # Find the img element by its attributes\n",
    "        img_element = driver.find_element_by_xpath('//img[@class=\"x5yr21d xu96u03 x10l6tqk x13vifvy x87ps6o xh8yej3\"]')\n",
    "\n",
    "        # Extract the URL from the src attribute\n",
    "        img_url = img_element.get_attribute(\"src\")\n",
    "        images.append(img_url)\n",
    "    except Exception as e:\n",
    "        print(f\"Error: {e}\")\n",
    "        continue\n",
    "    \n",
    "images[:5]   "
   ]
  },
  {
   "cell_type": "code",
   "execution_count": null,
   "id": "262491f4",
   "metadata": {},
   "outputs": [],
   "source": [
    "import os\n",
    "import wget\n",
    "\n",
    "path = os.getcwd()\n",
    "path = os.path.join(path, keyword)\n",
    "\n",
    "#create the directory\n",
    "os.mkdir(path)\n",
    "\n",
    "path"
   ]
  },
  {
   "cell_type": "code",
   "execution_count": null,
   "id": "12b20b62",
   "metadata": {},
   "outputs": [],
   "source": [
    "for index, url in enumerate(images, 1):\n",
    "    driver.get(url)\n",
    "    time.sleep(3)\n",
    "\n",
    "    response = requests.get(url)\n",
    "    if response.status_code == 200:\n",
    "    # Save the image to a file with a unique filename based on the index\n",
    "        with open(os.path.join(path, f\"{keyword}_image_{index}.jpg\"), \"wb\") as file:\n",
    "            file.write(response.content)\n",
    "        print(f\"Image downloaded successfully as '{keyword}_image_{index}.jpg'\")\n",
    "    else:\n",
    "        print(f\"Failed to download {keyword} image {index}\")"
   ]
  },
  {
   "cell_type": "code",
   "execution_count": null,
   "id": "932ba62a",
   "metadata": {},
   "outputs": [],
   "source": [
    "\n",
    "url = \"https://www.instagram.com/reel/Cg7WabAFOoN/\"\n",
    "filename = \"bubi.mp4\"\n",
    "\n",
    "driver.get(url)\n",
    "element = WebDriverWait(driver, 10).until(\n",
    "    EC.presence_of_element_located((By.TAG_NAME, \"video\"))\n",
    ")\n",
    "s = element.get_attribute('src')\n",
    "if (filename == None):\n",
    "    filename = f\"{time()}\"\n",
    "\n",
    "driver.wait_for_request(\"^.*\\.mp4.*bytestart.*$\", 20)\n",
    "\n",
    "includedFiles = []\n",
    "mediaFiles = []\n",
    "\n",
    "for request in driver.requests:\n",
    "    if request.response and request.response.status_code == 200 and re.search(\"^.*\\.mp4.*bytestart.*$\", request.url) != None:\n",
    "        key = re.search(\"\\d/\\d*.*\\.mp4\", request.url)\n",
    "        if key:\n",
    "            if (key.group(0) not in includedFiles):\n",
    "                mediaFiles.append(request.url.split(\"bytestart\")[0])\n",
    "                includedFiles.append(key.group(0))\n",
    "\n",
    "r = requests.get(mediaFiles[0], stream=True)\n",
    "with open(filename+\".mp4\", 'wb') as f:\n",
    "    for chunk in r.iter_content(chunk_size=1024*1024):\n",
    "        if chunk:\n",
    "            f.write(chunk)\n",
    "\n",
    "for index in [-1, -2]:\n",
    "    r = requests.get(mediaFiles[index], stream=True)\n",
    "    with open(f\"{filename}{index}.mp3\", 'wb') as f:\n",
    "        for chunk in r.iter_content(chunk_size=1024*1024):\n",
    "            if chunk:\n",
    "                f.write(chunk)\n",
    "\n",
    "combineAudioWithVideo(filename)"
   ]
  },
  {
   "cell_type": "code",
   "execution_count": null,
   "id": "eca43867",
   "metadata": {},
   "outputs": [],
   "source": [
    "url = \"blob:https://www.instagram.com/4e73ee33-5733-41dc-a7e6-333543f6dcd8\"\n",
    "\n",
    "response = requests.get(url)\n",
    "if response.status_code == 200:\n",
    "# Save the image to a file with a unique filename based on the index\n",
    "    with open(os.path.join(path, f\"video.mp4\"), \"wb\") as file:\n",
    "        file.write(response.content)\n",
    "    print(f\"Image downloaded successfully as 'image.mp4'\")\n",
    "else:\n",
    "    print(f\"Failed to download  image \")"
   ]
  },
  {
   "cell_type": "code",
   "execution_count": null,
   "id": "f345fb36",
   "metadata": {},
   "outputs": [],
   "source": [
    "pip install insta-scrape\n"
   ]
  },
  {
   "cell_type": "code",
   "execution_count": null,
   "id": "57858037",
   "metadata": {},
   "outputs": [],
   "source": [
    "# Get the session ID\n",
    "session_id = driver.session_id\n",
    "\n",
    "# Print the session ID\n",
    "print(\"Session ID:\", session_id)"
   ]
  },
  {
   "cell_type": "code",
   "execution_count": null,
   "id": "597e5285",
   "metadata": {},
   "outputs": [],
   "source": [
    "from instascrape import Reel\n",
    "\n",
    "# session id\n",
    "SESSIONID = session_id\n",
    " \n",
    "# Header with session id\n",
    "headers = {\n",
    "    \"User-Agent\": \"Mozilla/5.0 (Windows NT 10.0; Win64; x64)\\\n",
    "    AppleWebKit/537.36 (KHTML, like Gecko) Chrome/79.0.3945.74 \\\n",
    "    Safari/537.36 Edg/79.0.309.43\",\n",
    "    \"cookie\": f'sessionid={SESSIONID};'\n",
    "}\n",
    " \n",
    "# Passing Instagram reel link as argument in Reel Module\n",
    "insta_reel = Reel(\n",
    "    'https://www.instagram.com/reel/Cg7WabAFOoN/')\n",
    " \n",
    "# Using  scrape function and passing the headers\n",
    "insta_reel.scrape(headers=headers)\n",
    " \n",
    "# Giving path where we want to download reel to the \n",
    "# download function\n",
    "insta_reel.download(fp=f\".\\\\Desktop\\\\reel{int(time.time())}.mp4\")\n",
    " \n",
    "# printing success Message\n",
    "print('Downloaded Successfully.')"
   ]
  },
  {
   "cell_type": "code",
   "execution_count": null,
   "id": "57dd243e",
   "metadata": {},
   "outputs": [],
   "source": [
    "def download(url,params):\n",
    "    import requests\n",
    "    import re\n",
    "    from requests_html import HTMLSession\n",
    "    try:\n",
    "        params=str(params)\n",
    "        verify=re.findall(r\"(?i)\\b((?:https?://|www\\d{0,3}[.]|[a-z0-9.\\-]+[.][a-z]{2,4}/)(?:[^\\s()<>]+|\\(([^\\s()<>]+|(\\([^\\s()<>]+\\)))*\\))+(?:\\(([^\\s()<>]+|(\\([^\\s()<>]+\\)))*\\)|[^\\s`!()\\[\\]{};:'\\\".,<>?«»“”‘’]))\",url)\n",
    "    except:\n",
    "        return ValueError(\"Invalid params!\")\n",
    "    if __name__ == '__main__':\n",
    "        print(verify)\n",
    "    if verify[0][0]==url:\n",
    "        pass\n",
    "    else:\n",
    "        raise ValueError(\"Wrong url Supplied\")\n",
    "    try:\n",
    "\n",
    "        session = HTMLSession()\n",
    "        response = session.get(url).text\n",
    "        final= re.findall(r'content=\"https://scontent-bom1-1.cdninstagram.com/v/(.*?)[\\\"\\']',response)[-1]\n",
    "        print('https://scontent-bom1-1.cdninstagram.com/v/'+final)\n",
    "        # print(response)\n",
    "        import requests\n",
    "        r = requests.get('https://scontent-bom1-1.cdninstagram.com/v/'+final, stream=True)\n",
    "        with open(params, \"wb\") as f:\n",
    "            for c in r.iter_content(chunk_size=1024 * 1024):\n",
    "                if c:\n",
    "                    f.write(c)\n",
    "                    if __name__ == '__main__':\n",
    "                        print(\"Done\")\n",
    "\n",
    "\n",
    "    except requests.exceptions.RequestException as e:\n",
    "        raise str(e)\n",
    "if __name__ == '__main__':\n",
    "    download('https://www.instagram.com/reel/Cg7WabAFOoN/','video.mp4')"
   ]
  },
  {
   "cell_type": "code",
   "execution_count": null,
   "id": "8f4bc114",
   "metadata": {},
   "outputs": [],
   "source": [
    "pip install requests_html"
   ]
  },
  {
   "cell_type": "code",
   "execution_count": null,
   "id": "c92b90d3",
   "metadata": {},
   "outputs": [],
   "source": [
    "https://www.instagram.com/reel/Cg7WabAFOoN/?__a=1&__d=dis"
   ]
  },
  {
   "cell_type": "code",
   "execution_count": null,
   "id": "bc46bf95",
   "metadata": {},
   "outputs": [],
   "source": [
    "https://scontent-yyz1-1.cdninstagram.com/o1/v/t16/f1/m69/GICWmAAmBDxK1_UCAEJ8zPc449Btbq_EAAAF.mp4?efg=eyJxZV9ncm91cHMiOiJbXCJpZ193ZWJfZGVsaXZlcnlfdnRzX290ZlwiXSIsInZlbmNvZGVfdGFnIjoidnRzX3ZvZF91cmxnZW4uY2xpcHMuYzIuNzIwLmJhc2VsaW5lIn0&_nc_ht=scontent-yyz1-1.cdninstagram.com&_nc_cat=101&vs=362793529353709_107897921&_nc_vs=HBksFQIYOnBhc3N0aHJvdWdoX2V2ZXJzdG9yZS9HSUNXbUFBbUJEeEsxX1VDQUVKOHpQYzQ0OUJ0YnFfRUFBQUYVAALIAQAVAhg6cGFzc3Rocm91Z2hfZXZlcnN0b3JlL0dIV2F3aEhXVHY0X2pHY0VBR3ppY0pyNUI4OEpicV9FQUFBRhUCAsgBACgAGAAbABUAACbAjduggc%2FbPxUCKAJDMywXQE2AAAAAAAAYEmRhc2hfYmFzZWxpbmVfMV92MREAdf4HAA%3D%3D&_nc_rid=bbba604c33&ccb=9-4&oh=00_AfARqB4Jf7_YwNDSHkhRZD5wNOC6tJ1L5OPEn2_M1MucNA&oe=654B6101&_nc_sid=721f0c"
   ]
  }
 ],
 "metadata": {
  "kernelspec": {
   "display_name": "Python 3 (ipykernel)",
   "language": "python",
   "name": "python3"
  },
  "language_info": {
   "codemirror_mode": {
    "name": "ipython",
    "version": 3
   },
   "file_extension": ".py",
   "mimetype": "text/x-python",
   "name": "python",
   "nbconvert_exporter": "python",
   "pygments_lexer": "ipython3",
   "version": "3.9.13"
  }
 },
 "nbformat": 4,
 "nbformat_minor": 5
}
